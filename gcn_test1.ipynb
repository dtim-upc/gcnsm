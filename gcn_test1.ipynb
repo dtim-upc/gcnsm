{
 "cells": [
  {
   "cell_type": "markdown",
   "metadata": {},
   "source": [
    "## Get 80% train, 20% test"
   ]
  },
  {
   "cell_type": "code",
   "execution_count": 1,
   "metadata": {},
   "outputs": [
    {
     "name": "stdout",
     "output_type": "stream",
     "text": [
      "Train samples: 2145 Test samples: 374\n"
     ]
    }
   ],
   "source": [
    "import numpy as np\n",
    "import pandas as pd\n",
    "\n",
    "train_mask = pd.read_csv(\"./train.csv\").to_numpy()\n",
    "test_mask = pd.read_csv(\"./test.csv\").to_numpy()\n",
    "print(\"Train samples: \"+str(len(train_mask)) + \" Test samples: \"+str(len(test_mask)))\n",
    "# nodes_train = np.unique(np.concatenate((train_mask[:,0],train_mask[:,1]))) \n",
    "# nodes_test = np.unique(np.concatenate((test_mask[:,0],test_mask[:,1])))"
   ]
  },
  {
   "cell_type": "markdown",
   "metadata": {},
   "source": [
    "## Read graph of metafeatures"
   ]
  },
  {
   "cell_type": "code",
   "execution_count": 2,
   "metadata": {},
   "outputs": [
    {
     "data": {
      "text/plain": [
       "374"
      ]
     },
     "execution_count": 2,
     "metadata": {},
     "output_type": "execute_result"
    }
   ],
   "source": [
    "import networkx as nx\n",
    "g_x = nx.read_gpickle(\"encoded_fasttext.gpickle\")\n",
    "#g = nx.read_gpickle(\"encoded_features.gpickle\")\n",
    "#g = nx.read_gpickle(\"siimple.gpickle\")\n",
    "order = 0\n",
    "for x,n in sorted(g_x.nodes(data=True)):\n",
    "    t = n['tipo']\n",
    "    if t == \"dataset\":\n",
    "        n['tipo'] = 0\n",
    "    if t == \"feature dataset\":\n",
    "        n['tipo'] = 1\n",
    "    if t == \"literal dataset\":\n",
    "        n['tipo'] = 2\n",
    "    if t == \"attribute\":\n",
    "        n['tipo'] = 3\n",
    "    if t == \"feature attribute\":\n",
    "        n['tipo'] = 4\n",
    "    if t == \"literal attribute\":\n",
    "        n['tipo'] = 5  \n",
    "    n['order']=order\n",
    "    order+=1\n",
    "    \n",
    "datasets = [x for (x,y) in g_x.nodes(data=True) if y['tipo']==0]\n",
    "order = [y['order'] for x,y in g_x.nodes(data=True) if y['tipo']==0]\n",
    "map_order = dict(zip(datasets,order))\n",
    "map_order['DS_1']"
   ]
  },
  {
   "cell_type": "markdown",
   "metadata": {},
   "source": [
    "## Deep graph library"
   ]
  },
  {
   "cell_type": "code",
   "execution_count": 3,
   "metadata": {},
   "outputs": [
    {
     "name": "stderr",
     "output_type": "stream",
     "text": [
      "Using backend: pytorch\n"
     ]
    }
   ],
   "source": [
    "import dgl\n",
    "#convert from networkx to graph deep library format\n",
    "g = dgl.DGLGraph()\n",
    "#gdl.from_networkx(g,['vector'])\n",
    "g.from_networkx(g_x,node_attrs=['tipo','vector'], edge_attrs=None)\n",
    "g_x = None"
   ]
  },
  {
   "cell_type": "code",
   "execution_count": 4,
   "metadata": {},
   "outputs": [],
   "source": [
    "import dgl\n",
    "import dgl.function as fn\n",
    "import torch as th\n",
    "import torch.nn as nn\n",
    "import torch.nn.functional as F\n",
    "from dgl import DGLGraph\n",
    "\n",
    "gcn_msg = fn.copy_src(src='vector', out='m')\n",
    "gcn_reduce = fn.sum(msg='m', out='vector')"
   ]
  },
  {
   "cell_type": "markdown",
   "metadata": {},
   "source": [
    "## Helpers"
   ]
  },
  {
   "cell_type": "code",
   "execution_count": 5,
   "metadata": {},
   "outputs": [],
   "source": [
    "def resultSet_train(features,mask):\n",
    "    v1 = []\n",
    "    v2 = []\n",
    "    labels = []\n",
    "    for n in mask:\n",
    "        v1.append(features[n[0]])\n",
    "        v2.append(features[n[1]])\n",
    "        if n[2] == 0:\n",
    "            n[2] = -1\n",
    "        labels.append(n[2])\n",
    "    return th.stack(v1),th.stack(v2),th.tensor(labels)\n",
    "\n",
    "def resultSet_train_softmax(features,mask,labels):\n",
    "    v1 = []\n",
    "    labels_out = [] \n",
    "    loaded = []\n",
    "    for n in mask:\n",
    "        if n[0] not in loaded:\n",
    "            loaded.append(n[0])\n",
    "            v1.append(features[n[0]])\n",
    "            labels_out.append(labels[n[0]])\n",
    "        if n[1] not in loaded:\n",
    "            loaded.append(n[1])\n",
    "            v1.append(features[n[1]])\n",
    "            labels_out.append(labels[n[0]])\n",
    "    return th.stack(v1),th.tensor(labels_out)\n",
    "\n",
    "from scipy.spatial.distance import cosine\n",
    "def resultSet_eval(features,mask,sim=0.7):\n",
    "    indices = []\n",
    "    labels = []\n",
    "    for n in mask:\n",
    "        cos = th.nn.CosineSimilarity(dim=0, eps=1e-6)\n",
    "        resultCos = cos(features[n[0]],features[n[1]])\n",
    "            \n",
    "        if resultCos.item() >= sim:\n",
    "            out = th.tensor(1)\n",
    "        else:\n",
    "            out = th.tensor(0)\n",
    "        \n",
    "        indices.append(out)\n",
    "        labels.append(n[2])\n",
    "    return th.tensor(indices),th.tensor(labels)\n",
    "\n",
    "def evaluate(model, g, features, mask,eval_sim):\n",
    "    model.eval()\n",
    "    with th.no_grad():\n",
    "        embeddings = model.forward(g, features)\n",
    "        indices , labels = resultSet_eval(embeddings,mask,eval_sim)\n",
    "        correct = th.sum(indices == labels)\n",
    "        return correct.item() * 1.0 / len(labels)\n",
    "\n",
    "    \n",
    "def write_to_file(text,id_file):\n",
    "    MyFile=open(id_file+'.txt','w')\n",
    "    MyFile.writelines(text)\n",
    "    MyFile.close()\n",
    "    \n",
    "#print(print_experiment_loss())"
   ]
  },
  {
   "cell_type": "code",
   "execution_count": 6,
   "metadata": {},
   "outputs": [],
   "source": [
    "def print_experiment_loss():\n",
    "    v12,labels2 = resultSet_eval(embeddings.detach(),test_mask,0.7)\n",
    "    total = len(labels2)\n",
    "    return \"acc= \" + str(th.sum(v12 == labels2).item() / total)"
   ]
  },
  {
   "cell_type": "markdown",
   "metadata": {},
   "source": [
    "## Define NN layers"
   ]
  },
  {
   "cell_type": "code",
   "execution_count": 7,
   "metadata": {},
   "outputs": [],
   "source": [
    "class GCNLayer(nn.Module):\n",
    "    def __init__(self, in_feats, out_feats):\n",
    "        super(GCNLayer, self).__init__()\n",
    "        self.linear = nn.Linear(in_feats, out_feats)\n",
    "\n",
    "    def forward(self, g,feature):\n",
    "        # Creating a local scope so that all the stored ndata and edata\n",
    "        # (such as the `'h'` ndata below) are automatically popped out\n",
    "        # when the scope exits.\n",
    "        with g.local_scope():\n",
    "            g.ndata['vector'] = feature\n",
    "            g.update_all(gcn_msg, gcn_reduce)\n",
    "            h = th.cat([feature,g.ndata['vector']],dim=1)\n",
    "            g.ndata['vector'] = self.linear(h)\n",
    "            return g.ndata['vector']\n",
    "#             g.ndata['vector'] = feature\n",
    "#             g.update_all(gcn_msg, gcn_reduce)\n",
    "#             h = g.ndata['vector']\n",
    "#             return self.linear(h)\n",
    "        \n",
    "# class Net(nn.Module):\n",
    "#     def __init__(self):\n",
    "#         super(Net, self).__init__()\n",
    "#         self.layer1 = GCNLayer(300, 150)\n",
    "#         self.layer2 = GCNLayer(150, 100)\n",
    "    \n",
    "#     def forward(self, g,features):\n",
    "#          #x = F.relu(self.layer1(g, features))\n",
    "#         x = F.leaky_relu(self.layer1(g, features))\n",
    "#         #x = F.relu(self.layer2(g, x))\n",
    "#         x = self.layer2(g, x)\n",
    "#         return x\n",
    "\n",
    "class Net(nn.Module):\n",
    "    def __init__(self):\n",
    "        super(Net, self).__init__()\n",
    "        self.layer1 = GCNLayer(600, 300)\n",
    "        self.layer2 = GCNLayer(600, 300)\n",
    "        self.layer3 = nn.Linear(300, 300)\n",
    "    \n",
    "    def forward(self, g,features):\n",
    "        x = F.leaky_relu(self.layer1(g,features))\n",
    "        x = self.layer2(g, x)\n",
    "        x = th.tanh(self.layer3(x))\n",
    "        return x\n",
    "    \n",
    "    def forward_softmax(self, features):\n",
    "        x = th.tanh(self.layer3(features))\n",
    "        x = F.log_softmax(self.layer4(x),dim=1)\n",
    "        return x\n",
    "    "
   ]
  },
  {
   "cell_type": "markdown",
   "metadata": {},
   "source": [
    "## Loss Functions"
   ]
  },
  {
   "cell_type": "code",
   "execution_count": 8,
   "metadata": {},
   "outputs": [],
   "source": [
    "import torch.nn as nn\n",
    "def get_loss_function(loss,param1=None,param2=None):\n",
    "    if loss == \"CosineEmbeddingLoss\":\n",
    "        red='sum'\n",
    "        marg=0.0\n",
    "        if param1 != None:\n",
    "            reduction = param1\n",
    "        if param2 != None:\n",
    "            margin = param2\n",
    "        return nn.CosineEmbeddingLoss(reduction=red,margin=marg)\n",
    "    if loss == \"CrossEntroppy\":\n",
    "        red='sum'\n",
    "        marg=0.0\n",
    "        if param1 != None:\n",
    "            reduction = param1\n",
    "        if param2 != None:\n",
    "            margin = param2\n",
    "        return nn.CosineEmbeddingLoss(reduction=red,margin=marg)\n",
    "        \n",
    "    "
   ]
  },
  {
   "cell_type": "markdown",
   "metadata": {},
   "source": [
    "## Train Loss = cos_similarity"
   ]
  },
  {
   "cell_type": "code",
   "execution_count": 9,
   "metadata": {
    "scrolled": false
   },
   "outputs": [
    {
     "name": "stdout",
     "output_type": "stream",
     "text": [
      "Epoch 00005 | Loss 1594.2313 | Test Acc 0.4706 | Time(s) 2181.4156\n"
     ]
    }
   ],
   "source": [
    "import time\n",
    "import numpy as np\n",
    "\n",
    "file_experiment = []\n",
    "\n",
    "#hyperPar\n",
    "eval_sim = 0.7\n",
    "batch_splits = 1\n",
    "lr=1e-3\n",
    "loss_function = \"CosineEmbeddingLoss\"\n",
    "margin=0.5\n",
    "reduction='mean'\n",
    "hyper_params = str(\"threshold_simmetry {:.4f} _ batch_split {:.4f}_learning_rate {:.4f} |\\\n",
    "loss_function {} + margin {:.4f} +reduction {}\".format(eval_sim,batch_splits,lr,loss_function,margin,reduction))\n",
    "\n",
    "#NN\n",
    "exp_number = 0\n",
    "net = Net()\n",
    "optimizer = th.optim.Adam(net.parameters(),lr)\n",
    "dur = []\n",
    "loss_func = get_loss_function(loss_function)\n",
    "train_batch = np.array_split(train_mask,batch_splits)\n",
    "\n",
    "for epoch in range(1):\n",
    "    t0 = time.time()\n",
    "    net.train()\n",
    "    for mask in train_batch:\n",
    "        embeddings = net.forward(g, g.ndata['vector'])\n",
    "        v1,v2,labels = resultSet_train(embeddings,mask)\n",
    "        loss = loss_func(v1,v2, labels)\n",
    "        optimizer.zero_grad()\n",
    "        #loss.backward(retain_graph=True)\n",
    "        loss.backward()\n",
    "        optimizer.step()\n",
    "    \n",
    "    dur.append(time.time() - t0)\n",
    "    acc = evaluate(net, g, g.ndata['vector'], test_mask,eval_sim)\n",
    "    output = str(\"Epoch {:05d} | Loss {:.4f} | Test Acc {:.4f} | Time(s) {:.4f}\".format(\n",
    "            epoch+5, loss.item(), acc, np.mean(dur)))\n",
    "    print(output)\n",
    "    file_experiment.append(output)\n",
    "\n",
    "write_to_file(file_experiment,hyper_params + \"_\"+ str(exp_number))\n",
    "exp_number+=1"
   ]
  },
  {
   "cell_type": "markdown",
   "metadata": {},
   "source": [
    "## Train Loss = cos_similarity + cross_entroppy"
   ]
  },
  {
   "cell_type": "code",
   "execution_count": null,
   "metadata": {},
   "outputs": [],
   "source": [
    "import time\n",
    "import numpy as np\n",
    "\n",
    "file_experiment = []\n",
    "\n",
    "#hyperPar\n",
    "eval_sim = 0.7\n",
    "batch_splits = 1\n",
    "lr=1e-3\n",
    "loss_function = \"CosineEmbeddingLoss+CrossEntroppy\"\n",
    "margin=0.5\n",
    "reduction='mean'\n",
    "hyper_params = str(\"threshold_simmetry {:.4f} _ batch_split {:.4f}_learning_rate {:.4f} |\\\n",
    "loss_function {} + margin {:.4f} +reduction {}\".format(eval_sim,batch_splits,lr,loss_function,margin,reduction))\n",
    "\n",
    "#NN\n",
    "exp_number = 0\n",
    "net = Net()\n",
    "optimizer = th.optim.Adam(net.parameters(),lr)\n",
    "dur = []\n",
    "loss_func = get_loss_function(loss_function)\n",
    "train_batch = np.array_split(train_mask,batch_splits)\n",
    "\n",
    "for epoch in range(1):\n",
    "    t0 = time.time()\n",
    "    net.train()\n",
    "    for mask in train_batch:\n",
    "        embeddings = net.forward(g, g.ndata['vector'])\n",
    "        v1,v2,labels = resultSet_train(embeddings,mask)\n",
    "        loss = loss_func(v1,v2, labels)\n",
    "        optimizer.zero_grad()\n",
    "        #loss.backward(retain_graph=True)\n",
    "        loss.backward()\n",
    "        optimizer.step()\n",
    "\n",
    "    \n",
    "    ##############################\n",
    "#     v_softmax,labels_tipo = resultSet_train_softmax(embeddings,train_mask,g.ndata['tipo'])\n",
    "#     embeddings_softmax = net.forward_softmax(v_softmax)\n",
    "#     loss2 = F.nll_loss(embeddings_softmax, labels_tipo)\n",
    "#     loss2.backward()\n",
    "#     optimizer.step()\n",
    "    \n",
    "    \n",
    "#     total_loss = loss2 + loss\n",
    "#     total_loss.backward()\n",
    "#     optimizer.step()\n",
    "    ##############################\n",
    "    \n",
    "    \n",
    "    \n",
    "    dur.append(time.time() - t0)\n",
    "    \n",
    "    #acc = evaluate(net, g, embeddings.detach(), test_mask)\n",
    "    acc = evaluate(net, g, g.ndata['vector'], test_mask,eval_sim)\n",
    "    output = str(\"Epoch {:05d} | Loss {:.4f} | Test Acc {:.4f} | Time(s) {:.4f}\".format(\n",
    "            epoch+5, loss.item(), acc, np.mean(dur)))\n",
    "    print(output)\n",
    "    file_experiment.append(output)\n",
    "\n",
    "write_to_file(file_experiment,hyper_params + \"_\"+ str(exp_number))\n",
    "exp_number+=1"
   ]
  },
  {
   "cell_type": "markdown",
   "metadata": {},
   "source": [
    "## Tests"
   ]
  },
  {
   "cell_type": "code",
   "execution_count": null,
   "metadata": {},
   "outputs": [],
   "source": [
    "result,label = resultSet_eval(g.ndata['vector'],test_mask)"
   ]
  },
  {
   "cell_type": "code",
   "execution_count": null,
   "metadata": {},
   "outputs": [],
   "source": [
    "#result_sum = th.sum(1-(result - label))\n",
    "#label\n",
    "ds1_set = list(set(df_matching[\"'dataset1_id'\"]))\n",
    "ds2_set = list(set(df_matching[\"'dataset2_id'\"]))\n",
    "print(len(ds1_set))\n",
    "print(len(ds2_set))"
   ]
  },
  {
   "cell_type": "code",
   "execution_count": null,
   "metadata": {},
   "outputs": [],
   "source": [
    "import torch as th\n",
    "hola = th.tensor([True, True, False])\n",
    "th.sum(hola)"
   ]
  },
  {
   "cell_type": "code",
   "execution_count": null,
   "metadata": {},
   "outputs": [],
   "source": [
    "cos = th.nn.CosineSimilarity(dim=0, eps=1e-6)\n",
    "resultCos = cos(embeddings[576].detach(), embeddings[513].detach())"
   ]
  },
  {
   "cell_type": "code",
   "execution_count": null,
   "metadata": {},
   "outputs": [],
   "source": [
    "hola = list(filter(lambda x: x[2] == 1, test_mask))\n",
    "print (len(hola)/len(test_mask))"
   ]
  },
  {
   "cell_type": "code",
   "execution_count": null,
   "metadata": {},
   "outputs": [],
   "source": [
    "cos = th.nn.CosineSimilarity(dim=0, eps=1e-6)\n",
    "#output = cos(embeddings[495].detach(),embeddings[576].detach())\n",
    "output = cos(embeddings[576].detach(),embeddings[574].detach())\n",
    "output"
   ]
  },
  {
   "cell_type": "code",
   "execution_count": null,
   "metadata": {},
   "outputs": [],
   "source": [
    "#get data from a specific node\n",
    "g.nodes[0].data\n",
    "#get data from nodes\n",
    "g.ndata\n",
    "#another way of accessing data from a node\n",
    "g.ndata['tipo'][0]"
   ]
  },
  {
   "cell_type": "code",
   "execution_count": null,
   "metadata": {},
   "outputs": [],
   "source": [
    "g.edges()"
   ]
  },
  {
   "cell_type": "code",
   "execution_count": null,
   "metadata": {},
   "outputs": [],
   "source": [
    "g.has_edge_between(374,17619)"
   ]
  },
  {
   "cell_type": "code",
   "execution_count": null,
   "metadata": {},
   "outputs": [],
   "source": [
    "g.ndata"
   ]
  },
  {
   "cell_type": "code",
   "execution_count": null,
   "metadata": {},
   "outputs": [],
   "source": [
    "for n in g.nodes:\n",
    "    print (n.data['tipo'])"
   ]
  },
  {
   "cell_type": "code",
   "execution_count": null,
   "metadata": {},
   "outputs": [],
   "source": []
  }
 ],
 "metadata": {
  "kernelspec": {
   "display_name": "Python 3",
   "language": "python",
   "name": "python3"
  },
  "language_info": {
   "codemirror_mode": {
    "name": "ipython",
    "version": 3
   },
   "file_extension": ".py",
   "mimetype": "text/x-python",
   "name": "python",
   "nbconvert_exporter": "python",
   "pygments_lexer": "ipython3",
   "version": "3.6.9"
  }
 },
 "nbformat": 4,
 "nbformat_minor": 4
}
