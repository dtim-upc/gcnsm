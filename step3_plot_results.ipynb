{
 "cells": [
  {
   "cell_type": "markdown",
   "metadata": {},
   "source": [
    "## Plot results"
   ]
  },
  {
   "cell_type": "code",
   "execution_count": null,
   "metadata": {},
   "outputs": [],
   "source": [
    "import pandas as pd\n",
    "import matplotlib.pyplot as plt\n",
    "from matplotlib.lines import Line2D\n",
    "\n",
    "def reading(file_path):\n",
    "    s = open(file_path, 'r').read()\n",
    "    return eval(s)\n",
    "\n",
    "#parameters\n",
    "loss_functions = [\"CosineEmbeddingLoss\",\"ContrastiveLoss\"]\n",
    "loss_parameters = [\"0.1+mean\",\"0.3+mean\",\"0.5+mean\",\"0.7+mean\",\"0.9+mean\"]\n",
    "colors = [\"red\",\"green\",\"blue\",\"orange\",\"black\"]\n",
    "learning_rates = [\"0.0010\",\"0.0007\",\"0.0100\"]\n",
    "splits = [\"128\",\"64\",\"32\"]\n",
    "archi = [\"Bert_300\",\"Bert_768\",\"Fasttext3GCN_300\",\"Fasttext_300\",\"Fasttext_150\"]\n",
    "ep_run_init = [\"00\",\"40\",\"50\",\"60\",\"70\"]\n",
    "ep_run_end = [\"40\",\"50\",\"60\",\"70\",\"80\",\"90\",\"100\"]\n",
    "#split_setup\n",
    "strategy = [\"isolation\",\"random\"]\n",
    "sampling = 2\n",
    "path = \"./results/\"+strategy[1]+\"/\"+str(sampling)+\"/\"\n",
    "for lf in loss_functions:\n",
    "    for a in archi:\n",
    "        for s in splits:\n",
    "            for lr in learning_rates:\n",
    "                for eri in ep_run_init:\n",
    "                    for ere in ep_run_end:\n",
    "                        content = False\n",
    "                        for lp in range(len(loss_parameters)):                    \n",
    "                            #{'epoch': 0, 'loss': 0.07563, 'acc': 0.54412, 'acc2': 0.36527, 'time_epoch': 268.2493, 'time_total': 268.2493}    \n",
    "                            file_name = \"net_name:\"+a+\"|batch_splits:\"+s+\"|lr:\"+lr+\"|loss_name:\"+lf+\"|loss_parameters:\"+loss_parameters[lp]+\"|epochs_run:\"+eri+\"_\"+ere\n",
    "                            try:\n",
    "                                df_results0 = reading(path+file_name+\".txt\")\n",
    "                            except:\n",
    "                                continue\n",
    "                            content = True\n",
    "                            break\n",
    "\n",
    "                        if not content:\n",
    "                            continue\n",
    "\n",
    "                        fig1, axs = plt.subplots(1, 3, figsize=(70, 20), facecolor='w', edgecolor='k')\n",
    "                        for lp in range(len(loss_parameters)):                    \n",
    "                            file_name = \"net_name:\"+a+\"|batch_splits:\"+s+\"|lr:\"+lr+\"|loss_name:\"+lf+\"|loss_parameters:\"+loss_parameters[lp]+\"|epochs_run:\"+eri+\"_\"+ere\n",
    "                            #{'epoch': 0, 'loss': 0.07563, 'acc': 0.54412, 'acc2': 0.36527, 'time_epoch': 268.2493, 'time_total': 268.2493}    \n",
    "                            try:\n",
    "                                df_results0 = reading(path+file_name+\".txt\")\n",
    "                            except:\n",
    "                                continue\n",
    "                            loss = list(x[\"loss\"] for x in df_results0)\n",
    "                            acc = list(x[\"acc\"] for x in df_results0)\n",
    "                            acc2 = list(x[\"acc2\"] for x in df_results0)\n",
    "\n",
    "                            fig1.suptitle(\"Architecture: \"+ a+ \" Loss: \"+lf+\" lr: \"+lr+\" splits: \"+s)\n",
    "                            axs[0].plot(range(0,len(df_results0)), loss, marker=\"o\", c=colors[lp],  linestyle='--', label=\" Loss parameters: margin=\"+loss_parameters[lp])\n",
    "                            axs[1].plot(range(0,len(df_results0)), acc, marker=\"o\", c=colors[lp],  linestyle='--', label=\" Loss parameters: margin=\"+loss_parameters[lp])\n",
    "                            axs[2].plot(range(0,len(df_results0)), acc2, marker=\"o\", c=colors[lp],  linestyle='--', label=\" Loss parameters: margin=\"+loss_parameters[lp])\n",
    "\n",
    "                            axs[0].set_title(\"Train loss\")\n",
    "                            axs[1].set_title(\"Test accuracy Trheshold\")\n",
    "                            axs[2].set_title(\"Test accuracy Nearest neighbor\")\n",
    "\n",
    "                            leg = axs[0].legend(loc='best', ncol=1, shadow=True, fancybox=True)\n",
    "                            leg = axs[1].legend(loc='best', ncol=1, shadow=True, fancybox=True)\n",
    "                            leg = axs[2].legend(loc='best', ncol=1, shadow=True, fancybox=True)\n",
    "\n",
    "                        fig1.savefig(path+\"net_name:\"+a+\"|batch_splits:\"+s+\"|lr:\"+lr+\"|loss_name:\"+lf+\"epochs_run\"+eri+\"_\"+ere+\".png\",pad_inches = 0)"
   ]
  },
  {
   "cell_type": "code",
   "execution_count": null,
   "metadata": {},
   "outputs": [],
   "source": []
  }
 ],
 "metadata": {
  "kernelspec": {
   "display_name": "Python 3",
   "language": "python",
   "name": "python3"
  },
  "language_info": {
   "codemirror_mode": {
    "name": "ipython",
    "version": 3
   },
   "file_extension": ".py",
   "mimetype": "text/x-python",
   "name": "python",
   "nbconvert_exporter": "python",
   "pygments_lexer": "ipython3",
   "version": "3.6.9"
  }
 },
 "nbformat": 4,
 "nbformat_minor": 4
}
